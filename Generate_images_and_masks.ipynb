{
  "nbformat": 4,
  "nbformat_minor": 0,
  "metadata": {
    "colab": {
      "provenance": [],
      "toc_visible": true,
      "authorship_tag": "ABX9TyMVpg/uZMCYy/D1Q+V9V2jz",
      "include_colab_link": true
    },
    "kernelspec": {
      "name": "python3",
      "display_name": "Python 3"
    },
    "language_info": {
      "name": "python"
    }
  },
  "cells": [
    {
      "cell_type": "markdown",
      "metadata": {
        "id": "view-in-github",
        "colab_type": "text"
      },
      "source": [
        "<a href=\"https://colab.research.google.com/github/StellaHtet92/Rooftop_Detecting_Sentinel_2/blob/main/Generate_images_and_masks.ipynb\" target=\"_parent\"><img src=\"https://colab.research.google.com/assets/colab-badge.svg\" alt=\"Open In Colab\"/></a>"
      ]
    },
    {
      "cell_type": "code",
      "execution_count": null,
      "metadata": {
        "id": "pKeS_Gx4gmvY"
      },
      "outputs": [],
      "source": [
        "#@title Default title text\n",
        "import tifffile as tfl\n",
        "from PIL import Image\n",
        "import numpy as np\n",
        "import matplotlib.pyplot as plt\n",
        "import os\n",
        "import utils.image_utils as ps"
      ]
    },
    {
      "cell_type": "code",
      "source": [
        "title_size=512\n",
        "image_dir='my_image.tif'\n",
        "\n",
        "image=tfl.read(image_dir)\n",
        "mask_dir='my_mask.png'\n",
        "mask=np.array(Image.open(mask_dir))\n",
        "\n",
        "print(f'shape of Image:{image.shape}')"
      ],
      "metadata": {
        "id": "kiVkaWPHNRcG"
      },
      "execution_count": null,
      "outputs": []
    },
    {
      "cell_type": "code",
      "source": [
        "resize=False\n",
        "\n",
        "scale=0.5\n",
        "\n",
        "if resize:\n",
        "  image=ps.resize_image(image,percent=scale)\n",
        "  mask=ps.resize_image(mask,percent=scale)\n",
        "\n",
        "plt.imshow(image)"
      ],
      "metadata": {
        "id": "Ks_ZVrydNpN5"
      },
      "execution_count": null,
      "outputs": []
    },
    {
      "cell_type": "code",
      "source": [
        "x=4000\n",
        "y=5000\n",
        "\n",
        "fig,(ax1,ax2)=plot.subplots(1,2,figsize=(13,8))\n",
        "ax1.imshow(image[y:y+tile_size,x:x+tile_size])\n",
        "ax2.imshow(image[y:y+tile_size,x:x+tile_size])"
      ],
      "metadata": {
        "id": "HL9JwWwUr1tR"
      },
      "execution_count": null,
      "outputs": []
    },
    {
      "cell_type": "code",
      "source": [
        "padded_image=ps.pad(image,tile_size,tile_size)\n",
        "padded_mask=ps.pad(mask,tile_size,tile_size)\n",
        "\n",
        "cropped_image_tiles=ps.crop(padded_image,tile_size,tile_size)\n",
        "cropped_mask_tiles=ps.crop(padded_mask,tile_size,tile_size)\n",
        "\n",
        "print('Number of Tiles :', len(cropped_image_tiles))"
      ],
      "metadata": {
        "id": "T6HU8IEvsUbt"
      },
      "execution_count": null,
      "outputs": []
    },
    {
      "cell_type": "code",
      "source": [
        "dataset_folder='output/dataset'\n",
        "img_save_dir=f'{dataset_folder}/images'\n",
        "\n",
        "mask_save_dir=f'{dataset_folder}/masks'\n",
        "\n",
        "os.makedirs(img_save_dir,exist_ok=True)\n",
        "os.makedirs(mask_save_dir,exist_ok=True)"
      ],
      "metadata": {
        "id": "mjkKeOB4s1ob"
      },
      "execution_count": null,
      "outputs": []
    },
    {
      "cell_type": "markdown",
      "source": [
        "# Save Image Tiles and Mask Tiles in Target Directory"
      ],
      "metadata": {
        "id": "8RDJijcot3WB"
      }
    },
    {
      "cell_type": "code",
      "source": [
        "area_name='Khon Kaen'\n",
        "image_format='png'\n",
        "num_digit=4\n",
        "\n",
        "rotation_angles=[0,90,180,270]\n",
        "horizontal_flip = True\n",
        "\n",
        "#save images in the target directory\n",
        "ps.generate_images(cropped_image_tiles,\n",
        "                   save_dir=img_save_dir,\n",
        "                   area_name=area_name,\n",
        "                   img_format=image_format,\n",
        "                   num_digit=num_digit,\n",
        "                   rotations=rotation_angles,\n",
        "                   flip_horizontal=horizontal_flip,\n",
        "                   flip_vertical=False)\n",
        "\n",
        "\n",
        "# save masks in target directory\n",
        "ps.generate_images(cropped_mask_tiles,\n",
        "                   save_dir =  mask_save_dir,\n",
        "                   area_name = area_name,\n",
        "                   img_format = image_format,\n",
        "                   num_digit = num_digit,\n",
        "                   rotations = rotation_angles,\n",
        "                   flip_horizontal = horizontal_flip,\n",
        "                   flip_vertical=False)"
      ],
      "metadata": {
        "id": "kHP4Mg9htR4p"
      },
      "execution_count": null,
      "outputs": []
    }
  ]
}